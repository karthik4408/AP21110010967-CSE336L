{
 "cells": [
  {
   "cell_type": "markdown",
   "id": "83a9b87c",
   "metadata": {},
   "source": [
    "# NUMPYS"
   ]
  },
  {
   "cell_type": "code",
   "execution_count": 1,
   "id": "feb1b446",
   "metadata": {},
   "outputs": [
    {
     "name": "stdout",
     "output_type": "stream",
     "text": [
      "The Array after Multiplication: [[ 3  4  3]\n",
      " [24 25 24]]\n"
     ]
    }
   ],
   "source": [
    "#1\n",
    "import numpy as np\n",
    "arr1=np.array([[1,2,3],[4,5,6]])\n",
    "arr2=np.array([[3,2,1],[6,5,4]])\n",
    "result=np.multiply(arr1,arr2)\n",
    "print(\"The Array after Multiplication:\",result)\n"
   ]
  },
  {
   "cell_type": "code",
   "execution_count": 2,
   "id": "abad52c5",
   "metadata": {},
   "outputs": [
    {
     "name": "stdout",
     "output_type": "stream",
     "text": [
      "The Missing data is: [[False False  True False]\n",
      " [False False False  True]\n",
      " [False  True  True  True]]\n"
     ]
    }
   ],
   "source": [
    "#2\n",
    "import numpy as np\n",
    "arr=np.array([[1,2,np.nan,4],[5,6,7,np.nan],[9,np.nan,np.nan,np.nan]])\n",
    "print(\"The Missing data is:\",np.isnan(arr))\n"
   ]
  },
  {
   "cell_type": "code",
   "execution_count": 3,
   "id": "ef6cb281",
   "metadata": {},
   "outputs": [
    {
     "name": "stdout",
     "output_type": "stream",
     "text": [
      "Comparing two arrays [ True  True False False]\n"
     ]
    }
   ],
   "source": [
    "#3\n",
    "import numpy as np\n",
    "arr1=np.array([1,2,3,4,5])\n",
    "arr2=np.array([2,4,6,7])\n",
    "print(\"Comparing two arrays\",np.in1d(arr2,arr1))\n"
   ]
  },
  {
   "cell_type": "code",
   "execution_count": 7,
   "id": "22854d13",
   "metadata": {},
   "outputs": [],
   "source": [
    "#4\n",
    "import numpy as np\n",
    "arr=np.array([1,2,3,4])\n",
    "np.savetxt('image.txt',arr)\n"
   ]
  },
  {
   "cell_type": "code",
   "execution_count": 6,
   "id": "5b5388eb",
   "metadata": {},
   "outputs": [
    {
     "name": "stdout",
     "output_type": "stream",
     "text": [
      "The array is---> [2.5        2.63793103 2.77586207 2.9137931  3.05172414 3.18965517\n",
      " 3.32758621 3.46551724 3.60344828 3.74137931 3.87931034 4.01724138\n",
      " 4.15517241 4.29310345 4.43103448 4.56896552 4.70689655 4.84482759\n",
      " 4.98275862 5.12068966 5.25862069 5.39655172 5.53448276 5.67241379\n",
      " 5.81034483 5.94827586 6.0862069  6.22413793 6.36206897 6.5       ]\n"
     ]
    }
   ],
   "source": [
    "#5\n",
    "import numpy as np\n",
    "x=np.linspace(2.5,6.5,30)\n",
    "print(\"The array is--->\",x)"
   ]
  },
  {
   "cell_type": "code",
   "execution_count": null,
   "id": "dd74584a",
   "metadata": {},
   "outputs": [],
   "source": []
  }
 ],
 "metadata": {
  "kernelspec": {
   "display_name": "Python 3 (ipykernel)",
   "language": "python",
   "name": "python3"
  },
  "language_info": {
   "codemirror_mode": {
    "name": "ipython",
    "version": 3
   },
   "file_extension": ".py",
   "mimetype": "text/x-python",
   "name": "python",
   "nbconvert_exporter": "python",
   "pygments_lexer": "ipython3",
   "version": "3.10.9"
  }
 },
 "nbformat": 4,
 "nbformat_minor": 5
}
